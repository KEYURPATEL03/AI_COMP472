{
 "cells": [
  {
   "cell_type": "code",
   "execution_count": 11,
   "id": "7fa0c62b",
   "metadata": {},
   "outputs": [],
   "source": [
    "import pandas as pd\n",
    "import numpy as np\n",
    "import json\n",
    "from sklearn.feature_extraction.text import CountVectorizer\n",
    "from sklearn import preprocessing\n",
    "from sklearn.model_selection import train_test_split"
   ]
  },
  {
   "cell_type": "code",
   "execution_count": 20,
   "id": "7132e591",
   "metadata": {},
   "outputs": [
    {
     "name": "stdout",
     "output_type": "stream",
     "text": [
      "The size of the vocabulary is :30449\n"
     ]
    }
   ],
   "source": [
    "dataset = pd.read_json(\"goemotions.json\") \n",
    "\n",
    "dataset.columns = ['posts','emotion','sentiment'] \n",
    "emotion = dataset['emotion']\n",
    "sentiment = dataset['sentiment']\n",
    "posts = dataset['posts']\n",
    "size = dataset.shape[0]\n",
    "\n",
    "#2.1 Processing the dataset;Displayed the number of tokens in the dataset\n",
    "count = CountVectorizer()\n",
    "X = count.fit_transform(posts)\n",
    "size_of_vocab = count.get_feature_names_out().shape[0]\n",
    "\n",
    "print(f'The size of the vocabulary is :{size_of_vocab}')"
   ]
  },
  {
   "cell_type": "code",
   "execution_count": 22,
   "id": "e2bfdd4f",
   "metadata": {},
   "outputs": [],
   "source": [
    "#2.2 Split the dataset\n",
    "\n",
    "\n",
    "#get the location\n",
    "emo = preprocessing.LabelEncoder()\n",
    "senti = preprocessing.LabelEncoder()\n",
    "\n",
    "#now need to be split ????\n"
   ]
  },
  {
   "cell_type": "code",
   "execution_count": null,
   "id": "f3fa80e6",
   "metadata": {},
   "outputs": [],
   "source": []
  }
 ],
 "metadata": {
  "kernelspec": {
   "display_name": "Python 3 (ipykernel)",
   "language": "python",
   "name": "python3"
  },
  "language_info": {
   "codemirror_mode": {
    "name": "ipython",
    "version": 3
   },
   "file_extension": ".py",
   "mimetype": "text/x-python",
   "name": "python",
   "nbconvert_exporter": "python",
   "pygments_lexer": "ipython3",
   "version": "3.9.12"
  }
 },
 "nbformat": 4,
 "nbformat_minor": 5
}
