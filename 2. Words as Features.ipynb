{
 "cells": [
  {
   "cell_type": "code",
   "execution_count": 11,
   "id": "2fdba2e0",
   "metadata": {},
   "outputs": [],
   "source": [
    "import pandas as pd\n",
    "import numpy as np\n",
    "import json\n",
    "from sklearn.feature_extraction.text import CountVectorizer\n",
    "from sklearn import preprocessing\n",
    "from sklearn.model_selection import train_test_split"
   ]
  },
  {
   "cell_type": "code",
   "execution_count": 38,
   "id": "66bbde11",
   "metadata": {},
   "outputs": [
    {
     "name": "stdout",
     "output_type": "stream",
     "text": [
      "The size of the vocabulary is 30449\n"
     ]
    }
   ],
   "source": [
    "#2.1 Processing the dataset;Displayed the number of tokens in the dataset\n",
    "with open(\"goemotions.json\", \"r\") as data:\n",
    "    file = pd.read_json(data)\n",
    "    \n",
    "emotion = file[1].value_counts().to_dict()\n",
    "sentiment = file[2].value_counts().to_dict()\n",
    "\n",
    "posts = file[0].tolist()\n",
    "vectorizer = CountVectorizer()\n",
    "X = vectorizer.fit_transform(posts)\n",
    "\n",
    "print(f\"The size of the vocabulary is {len(X.toarray()[0])}\")\n",
    "\n"
   ]
  },
  {
   "cell_type": "code",
   "execution_count": 37,
   "id": "bd8b42d1",
   "metadata": {},
   "outputs": [],
   "source": [
    "#2.2 Split the dataset\n",
    "#get the location\n",
    "emo = preprocessing.LabelEncoder()\n",
    "senti = preprocessing.LabelEncoder()\n",
    "\n",
    "#vectorizing emotions\n",
    "file[1] = emo.fit_transform(file[1]) \n",
    "#vectorizing sentiments\n",
    "file[2] = senti.fit_transform(file[2]) \n",
    "\n",
    "#now splitting the data \n",
    "X_train,X_test,Yemo_train, Yemo_test,Ysenti_train, Ysenti_test = train_test_split(X,file[1],file[2], test_size = 0.2, train_size=0.8)"
   ]
  }
 ],
 "metadata": {
  "kernelspec": {
   "display_name": "Python 3 (ipykernel)",
   "language": "python",
   "name": "python3"
  },
  "language_info": {
   "codemirror_mode": {
    "name": "ipython",
    "version": 3
   },
   "file_extension": ".py",
   "mimetype": "text/x-python",
   "name": "python",
   "nbconvert_exporter": "python",
   "pygments_lexer": "ipython3",
   "version": "3.9.12"
  }
 },
 "nbformat": 4,
 "nbformat_minor": 5
}
